{
  "cells": [
    {
      "cell_type": "markdown",
      "metadata": {
        "id": "qKj6jKYGkbs-"
      },
      "source": [
        "Установка и импорт библиотек"
      ]
    },
    {
      "cell_type": "code",
      "execution_count": null,
      "metadata": {
        "id": "yPIXZNGGkbtE"
      },
      "outputs": [],
      "source": [
        "%pip install -r requirements.txt"
      ]
    },
    {
      "cell_type": "code",
      "execution_count": 2,
      "metadata": {
        "id": "eltDzNmAkbtG"
      },
      "outputs": [],
      "source": [
        "import numpy as np\n",
        "import pandas as pd\n",
        "import cv2\n",
        "import matplotlib.pyplot as plt\n",
        "%matplotlib inline"
      ]
    },
    {
      "cell_type": "markdown",
      "metadata": {
        "id": "2cBy_nzrkbtH"
      },
      "source": [
        "Основные функции препроцессинга"
      ]
    },
    {
      "cell_type": "code",
      "execution_count": 152,
      "metadata": {
        "id": "T42h1KbRkbtH"
      },
      "outputs": [],
      "source": [
        "# 1. Метрика для размытия\n",
        "# 10.1109/ICPR.2000.903548\n",
        "def measBlur(img):\n",
        "    return cv2.Laplacian(img, cv2.CV_64F).var()\n",
        "\n",
        "# 2. Метрика для освещенности\n",
        "# https://stackoverflow.com/questions/596216/formula-to-determine-perceived-brightness-of-rgb-color/56678483#56678483\n",
        "def measLum(img): # plain input (in bgr)!\n",
        "    # calculate luminance matrix\n",
        "    img_rgb = cv2.cvtColor(img, cv2.COLOR_BGR2RGB) / 255\n",
        "    img_rgb[img_rgb <= 0.04045] = img_rgb[img_rgb <= 0.04045] / 12.92\n",
        "    img_rgb[img_rgb > 0.04045] = pow(((img_rgb[img_rgb > 0.04045] + 0.055) / 1.055), 2.4)\n",
        "    lum = img_rgb[:, :, 0] * 0.2126 + img_rgb[:, :, 1] * 0.7152 + img_rgb[:, :, 1] * 0.0722\n",
        "    # take product with sobel full operator\n",
        "    img_gray = cv2.cvtColor(img, cv2.COLOR_BGR2GRAY)\n",
        "    sob = cv2.Sobel(img_gray, -1, 1, 1, ksize = 7) / 255 # ksize value!\n",
        "    return np.mean(lum * sob)\n",
        "# 3. Метрика для шумов\n",
        "#\n",
        "def measNoise(img):\n",
        "    return 0"
      ]
    }
  ],
  "metadata": {
    "kernelspec": {
      "display_name": "Python 3",
      "language": "python",
      "name": "python3"
    },
    "language_info": {
      "codemirror_mode": {
        "name": "ipython",
        "version": 3
      },
      "file_extension": ".py",
      "mimetype": "text/x-python",
      "name": "python",
      "nbconvert_exporter": "python",
      "pygments_lexer": "ipython3",
      "version": "3.10.13"
    },
    "orig_nbformat": 4,
    "colab": {
      "provenance": []
    }
  },
  "nbformat": 4,
  "nbformat_minor": 0
}