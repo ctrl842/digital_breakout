{
  "cells": [
    {
      "cell_type": "markdown",
      "metadata": {
        "id": "qKj6jKYGkbs-"
      },
      "source": [
        "Установка и импорт библиотек"
      ]
    },
    {
      "cell_type": "code",
      "execution_count": 1,
      "metadata": {
        "id": "yPIXZNGGkbtE"
      },
      "outputs": [
        {
          "name": "stdout",
          "output_type": "stream",
          "text": [
            "Requirement already satisfied: pandas in h:\\itmo\\digital_breakout\\.conda\\lib\\site-packages (from -r requirements.txt (line 1)) (2.1.1)\n",
            "Requirement already satisfied: numpy in h:\\itmo\\digital_breakout\\.conda\\lib\\site-packages (from -r requirements.txt (line 2)) (1.26.0)\n",
            "Requirement already satisfied: opencv-python in h:\\itmo\\digital_breakout\\.conda\\lib\\site-packages (from -r requirements.txt (line 3)) (4.8.0.76)\n",
            "Requirement already satisfied: matplotlib in h:\\itmo\\digital_breakout\\.conda\\lib\\site-packages (from -r requirements.txt (line 4)) (3.8.0)\n",
            "Requirement already satisfied: python-dateutil>=2.8.2 in h:\\itmo\\digital_breakout\\.conda\\lib\\site-packages (from pandas->-r requirements.txt (line 1)) (2.8.2)\n",
            "Requirement already satisfied: pytz>=2020.1 in h:\\itmo\\digital_breakout\\.conda\\lib\\site-packages (from pandas->-r requirements.txt (line 1)) (2023.3.post1)\n",
            "Requirement already satisfied: tzdata>=2022.1 in h:\\itmo\\digital_breakout\\.conda\\lib\\site-packages (from pandas->-r requirements.txt (line 1)) (2023.3)\n",
            "Requirement already satisfied: contourpy>=1.0.1 in h:\\itmo\\digital_breakout\\.conda\\lib\\site-packages (from matplotlib->-r requirements.txt (line 4)) (1.1.1)\n",
            "Requirement already satisfied: cycler>=0.10 in h:\\itmo\\digital_breakout\\.conda\\lib\\site-packages (from matplotlib->-r requirements.txt (line 4)) (0.11.0)\n",
            "Requirement already satisfied: fonttools>=4.22.0 in h:\\itmo\\digital_breakout\\.conda\\lib\\site-packages (from matplotlib->-r requirements.txt (line 4)) (4.42.1)\n",
            "Requirement already satisfied: kiwisolver>=1.0.1 in h:\\itmo\\digital_breakout\\.conda\\lib\\site-packages (from matplotlib->-r requirements.txt (line 4)) (1.4.5)\n",
            "Requirement already satisfied: packaging>=20.0 in h:\\itmo\\digital_breakout\\.conda\\lib\\site-packages (from matplotlib->-r requirements.txt (line 4)) (23.1)\n",
            "Requirement already satisfied: pillow>=6.2.0 in h:\\itmo\\digital_breakout\\.conda\\lib\\site-packages (from matplotlib->-r requirements.txt (line 4)) (10.0.1)\n",
            "Requirement already satisfied: pyparsing>=2.3.1 in h:\\itmo\\digital_breakout\\.conda\\lib\\site-packages (from matplotlib->-r requirements.txt (line 4)) (3.1.1)\n",
            "Requirement already satisfied: six>=1.5 in h:\\itmo\\digital_breakout\\.conda\\lib\\site-packages (from python-dateutil>=2.8.2->pandas->-r requirements.txt (line 1)) (1.16.0)\n",
            "Note: you may need to restart the kernel to use updated packages.\n"
          ]
        }
      ],
      "source": [
        "%pip install -r requirements.txt"
      ]
    },
    {
      "cell_type": "code",
      "execution_count": 2,
      "metadata": {
        "id": "eltDzNmAkbtG"
      },
      "outputs": [],
      "source": [
        "import numpy as np\n",
        "import pandas as pd\n",
        "import cv2\n",
        "import matplotlib.pyplot as plt\n",
        "import os\n",
        "%matplotlib inline"
      ]
    },
    {
      "cell_type": "markdown",
      "metadata": {
        "id": "2cBy_nzrkbtH"
      },
      "source": [
        "Основные функции препроцессинга"
      ]
    },
    {
      "cell_type": "code",
      "execution_count": 9,
      "metadata": {
        "id": "T42h1KbRkbtH"
      },
      "outputs": [],
      "source": [
        "# 1. Метрика для размытия\n",
        "# 10.1109/ICPR.2000.903548\n",
        "def measBlur(img):\n",
        "    return cv2.Laplacian(img, cv2.CV_64F).var()\n",
        "\n",
        "# 2. Метрика для освещенности\n",
        "# https://stackoverflow.com/questions/596216/formula-to-determine-perceived-brightness-of-rgb-color/56678483#56678483\n",
        "def measLum(img): # plain input (in bgr)!\n",
        "    # calculate luminance matrix\n",
        "    img_rgb = cv2.cvtColor(img, cv2.COLOR_BGR2RGB) / 255\n",
        "    img_rgb[img_rgb <= 0.04045] = img_rgb[img_rgb <= 0.04045] / 12.92\n",
        "    img_rgb[img_rgb > 0.04045] = pow(((img_rgb[img_rgb > 0.04045] + 0.055) / 1.055), 2.4)\n",
        "    lum = img_rgb[:, :, 0] * 0.2126 + img_rgb[:, :, 1] * 0.7152 + img_rgb[:, :, 1] * 0.0722\n",
        "    # take product with sobel full operator\n",
        "    img_gray = cv2.cvtColor(img, cv2.COLOR_BGR2GRAY)\n",
        "    sob = cv2.Sobel(img_gray, -1, 1, 1, ksize = 7) / 255 # ksize value! 7 seems fine\n",
        "    wlum = lum * sob\n",
        "    return np.mean(wlum[wlum > 1e-1]) # maybe apply threshold\n",
        "# 3. Метрика для шумов\n",
        "#\n",
        "def measNoise(img):\n",
        "    return 0\n",
        "\n",
        "def compositeResponse(img, thrBlur, thrLum, thrNoise):\n",
        "    if (measBlur(img) > thrBlur) and (measLum(img) > thrLum) and (measNoise(img) > thrNoise):\n",
        "        return 1\n",
        "    else:\n",
        "        return 0 "
      ]
    }
  ],
  "metadata": {
    "colab": {
      "provenance": []
    },
    "kernelspec": {
      "display_name": "Python 3",
      "language": "python",
      "name": "python3"
    },
    "language_info": {
      "codemirror_mode": {
        "name": "ipython",
        "version": 3
      },
      "file_extension": ".py",
      "mimetype": "text/x-python",
      "name": "python",
      "nbconvert_exporter": "python",
      "pygments_lexer": "ipython3",
      "version": "3.10.13"
    },
    "orig_nbformat": 4
  },
  "nbformat": 4,
  "nbformat_minor": 0
}
