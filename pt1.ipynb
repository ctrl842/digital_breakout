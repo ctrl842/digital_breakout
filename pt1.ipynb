{
 "cells": [
  {
   "cell_type": "markdown",
   "metadata": {},
   "source": [
    "Установка и импорт библиотек"
   ]
  },
  {
   "cell_type": "code",
   "execution_count": null,
   "metadata": {},
   "outputs": [],
   "source": [
    "%pip install -r requirements.txt"
   ]
  },
  {
   "cell_type": "code",
   "execution_count": null,
   "metadata": {},
   "outputs": [],
   "source": [
    "import numpy as np\n",
    "import pandas as pd\n",
    "import cv2\n",
    "import matplotlib.pyplot as plt\n",
    "%matplotlib inline"
   ]
  },
  {
   "cell_type": "markdown",
   "metadata": {},
   "source": [
    "Основные функции препроцессинга"
   ]
  },
  {
   "cell_type": "code",
   "execution_count": null,
   "metadata": {},
   "outputs": [],
   "source": [
    "# 1. Метрика для размытия\n",
    "# 10.1109/ICPR.2000.903548\n",
    "def measBlur(img):\n",
    "    return cv2.Laplacian(img, cv2.CV_64F).var()\n",
    "\n",
    "# 2. Метрика для освещенности\n",
    "# https://stackoverflow.com/questions/596216/formula-to-determine-perceived-brightness-of-rgb-color/56678483#56678483\n",
    "def measLum(img):\n",
    "    img = cv2.cvtColor(img, cv2.color_BGR2RGB) / 255\n",
    "    img[img <= 0.04045] = img[img <= 0.04045] / 12.92\n",
    "    img[img > 0.04045] = pow((img[img > 0.04045] + 0.55) / 1.055, 2.4)\n",
    "    # add fft/Sobel processing\n",
    "    return 0    \n",
    "# 3. Метрика для шумов\n",
    "# \n",
    "def measNoise(img):\n",
    "    return 0"
   ]
  }
 ],
 "metadata": {
  "kernelspec": {
   "display_name": "Python 3",
   "language": "python",
   "name": "python3"
  },
  "language_info": {
   "codemirror_mode": {
    "name": "ipython",
    "version": 3
   },
   "file_extension": ".py",
   "mimetype": "text/x-python",
   "name": "python",
   "nbconvert_exporter": "python",
   "pygments_lexer": "ipython3",
   "version": "3.10.13"
  },
  "orig_nbformat": 4
 },
 "nbformat": 4,
 "nbformat_minor": 2
}
